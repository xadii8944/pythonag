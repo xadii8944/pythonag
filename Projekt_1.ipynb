{
  "nbformat": 4,
  "nbformat_minor": 0,
  "metadata": {
    "colab": {
      "provenance": [],
      "include_colab_link": true
    },
    "kernelspec": {
      "name": "python3",
      "display_name": "Python 3"
    },
    "language_info": {
      "name": "python"
    }
  },
  "cells": [
    {
      "cell_type": "markdown",
      "metadata": {
        "id": "view-in-github",
        "colab_type": "text"
      },
      "source": [
        "<a href=\"https://colab.research.google.com/github/xadii8944/pythonag/blob/main/Projekt_1.ipynb\" target=\"_parent\"><img src=\"https://colab.research.google.com/assets/colab-badge.svg\" alt=\"Open In Colab\"/></a>"
      ]
    },
    {
      "cell_type": "markdown",
      "source": [
        "#Projekt 1\n",
        "1. Napisz program, uczący się gry \"kamień, papier, nożyce\". Jako algorytm uczący zastosuj łańcuch Markova z macierzą przejść pomiędzy trzema stanami (Papier, Kamień, Nożyce). Nauka gry polega na korekcie macierz przejść (prawdopodobieństwa warunkowe zmiany stanu). Wybór gracza - podany przez gracza, wybór AI na podstawie przewidywań AI\n",
        "\n",
        "2. Wartość wypłaty: 1 w przypadku wygranej, -1 w przypadku przegranej i 0 w przypadku remisu.\n",
        "\n",
        "3. Przeprowadź ciąg kilkudziesięciu gier \"kamień, papier, nożyce\". Sporządź wykres jak zmienia się stan kasy w każdym kroku gry. Wykres aktualizowany co gre\n",
        "\n",
        "Napisz gre kamień, papier, nożyce w python.\n",
        "Zastosuj algorytm uczący łańcucha Markova z macierzą przejść pomiędzy trzema stanami. Nauka gry polega na korekcie macierzy przejść. Narysuj wykres jak przebiega gra. Jeśli gracz wygra dodaj 1 punkt, jeśli przegra odejmij 1, jeśli remis to 0. Zakończ program przy wyborze x."
      ],
      "metadata": {
        "id": "A67ND9xBFMC9"
      }
    },
    {
      "cell_type": "markdown",
      "source": [],
      "metadata": {
        "id": "PWvriXwHu2-R"
      }
    },
    {
      "cell_type": "markdown",
      "source": [],
      "metadata": {
        "id": "t2UJX7EIu3NO"
      }
    },
    {
      "cell_type": "code",
      "source": [
        "import numpy as np\n",
        "import matplotlib.pyplot as plt\n",
        "import random\n",
        "\n",
        "transition_matrix = np.array([[1/3, 1/3, 1/3], [1/3, 1/3, 1/3], [1/3, 1/3, 1/3]])\n",
        "\n",
        "states = ['Rock', 'Paper', 'Scissors']\n",
        "\n",
        "player_score = 0\n",
        "game_history = []\n",
        "\n",
        "def get_user_choice():\n",
        "    return random.choice(states)\n",
        "\n",
        "def get_computer_choice(transition_matrix):\n",
        "    state_probs = transition_matrix[states.index(previous_state)]\n",
        "    return np.random.choice(states, p=state_probs)\n",
        "\n",
        "def update_transition_matrix(transition_matrix, previous_state, current_state):\n",
        "    alpha = 0.1\n",
        "    transition_matrix[states.index(previous_state), states.index(current_state)] += alpha\n",
        "\n",
        "    transition_matrix[states.index(previous_state)] /= transition_matrix[states.index(previous_state)].sum()\n",
        "\n",
        "def play_game():\n",
        "    global player_score\n",
        "    user_choice = get_user_choice()\n",
        "\n",
        "    computer_choice = get_computer_choice(transition_matrix)\n",
        "\n",
        "    if user_choice == computer_choice:\n",
        "        reward = 0\n",
        "        result = \"It's a draw!\"\n",
        "    elif (user_choice == 'Rock' and computer_choice == 'Scissors') or \\\n",
        "         (user_choice == 'Paper' and computer_choice == 'Rock') or \\\n",
        "         (user_choice == 'Scissors' and computer_choice == 'Paper'):\n",
        "        player_score += 1\n",
        "        reward = 1\n",
        "        result = \"You win!\"\n",
        "    else:\n",
        "        player_score -= 1\n",
        "        reward = -1\n",
        "        result = \"You lose.\"\n",
        "\n",
        "    update_transition_matrix(transition_matrix, previous_state, user_choice)\n",
        "    game_history.append(player_score)\n",
        "\n",
        "    print(f'Computer chose {computer_choice}. {result} Your score: {player_score}')\n",
        "\n",
        "\n",
        "    plt.plot(range(1, len(game_history) + 1), game_history, marker='o')\n",
        "    plt.xlabel('Game Number')\n",
        "    plt.ylabel('Player Score')\n",
        "    plt.title('Game Progress')\n",
        "    plt.show()\n",
        "\n",
        "    return True\n",
        "\n",
        "\n",
        "previous_state = 'Rock'\n",
        "\n",
        "for _ in range(25):\n",
        "    play_game()\n"
      ],
      "metadata": {
        "id": "5FGf-xHDUnGu"
      },
      "execution_count": null,
      "outputs": []
    },
    {
      "cell_type": "code",
      "source": [],
      "metadata": {
        "id": "v1yBdPoAWw3o"
      },
      "execution_count": 5,
      "outputs": []
    }
  ]
}